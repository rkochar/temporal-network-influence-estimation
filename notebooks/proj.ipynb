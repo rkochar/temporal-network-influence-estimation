{
 "cells": [
  {
   "cell_type": "code",
   "execution_count": 1,
   "metadata": {},
   "outputs": [],
   "source": [
    "import networkx as nx\n",
    "import numpy as np\n",
    "import matplotlib.pyplot as plt\n",
    "import math\n",
    "from ipywidgets import widgets\n",
    "from collections import Counter"
   ]
  },
  {
   "cell_type": "code",
   "execution_count": 2,
   "metadata": {},
   "outputs": [],
   "source": [
    "# Parameters\n",
    "\n",
    "# dataset = 'infectious'\n",
    "# beta = 1\n",
    "# Delta_T = 0.1 # Fraction of dataset to select (this is then divided by phi)\n",
    "# k = 10\n",
    "# phi = 0.1\n",
    "# lines = 0\n",
    "# runs = 3\n",
    "\n",
    "def get_data(dataset, Delta_T, phi):\n",
    "    lines = 0\n",
    "    if dataset == \"infectious\":\n",
    "        lines = 17298\n",
    "    elif dataset == \"ht09_contact\":\n",
    "        lines = 20818\n",
    "    elif dataset == \"SFHH\":\n",
    "        lines = 70261\n",
    "    elif dataset == \"tij\":\n",
    "        lines = 78249\n",
    "\n",
    "    total_edges = int(lines * Delta_T)\n",
    "    random_start_point = np.random.uniform(0, float(1 - Delta_T))\n",
    "    start = int(lines * random_start_point)\n",
    "\n",
    "    train_lines = int(total_edges * float(1 - phi))\n",
    "    mid = start + train_lines\n",
    "    end = start + total_edges\n",
    "\n",
    "    print(f'Total lines: {total_edges}, train lines {train_lines}')\n",
    "    print(f'Starting at {start} till {mid} to predict till {end}')\n",
    "\n",
    "    path_to_file = f'../data/{dataset}.txt'\n",
    "\n",
    "    all_data = np.loadtxt(path_to_file, delimiter='\\t', dtype=int)[start: end]\n",
    "    train_data = all_data[:train_lines]\n",
    "    predict_data = all_data[mid:]\n",
    "\n",
    "    return all_data, train_data, predict_data, train_lines, total_edges, start, mid, end\n",
    "\n",
    "# Check all edges are unique\n",
    "\n",
    "# a = np.array([src, dst, ts])\n",
    "# a = a.T\n",
    "# # np.any(np.all(np.unique(a, axis=1) == a, axis=1))\n",
    "# u, c = np.unique(a, return_counts=True, axis=0)\n",
    "# u[c > 1]"
   ]
  },
  {
   "cell_type": "code",
   "execution_count": 3,
   "metadata": {},
   "outputs": [],
   "source": [
    "# Construct Graph\n",
    "def make_graph(all_data):\n",
    "    src, dst, ts = [], [], []\n",
    "    graph = nx.MultiGraph()\n",
    "\n",
    "    for line in all_data:\n",
    "        src.append(line[0])\n",
    "        dst.append(line[1])\n",
    "        ts.append(line[2])\n",
    "\n",
    "        if graph.nodes.get(line[0]) is None:\n",
    "            graph.add_node(line[0], is_infected=False, infected_at=math.inf, influence=-1, influences=None, pred=None, polyfit_prediction=None)\n",
    "        if graph.nodes.get(line[1]) is None:\n",
    "            graph.add_node(line[1], is_infected=False, infected_at=math.inf, influence=-1, influences=None, pred=None, polyfit_prediction=None)\n",
    "\n",
    "        graph.add_edge(line[0], line[1], key=line[2], timestamp=line[2])\n",
    "\n",
    "    src, dst, ts = np.array(src), np.array(dst), np.array(ts) # ts is given sorted\n",
    "    print(graph.nodes.get(src[0]))\n",
    "\n",
    "    return src, dst, ts, graph"
   ]
  },
  {
   "cell_type": "code",
   "execution_count": 4,
   "metadata": {},
   "outputs": [],
   "source": [
    "def check_edge(edge, g, inf, ins, beta):\n",
    "    # TODO: use beta\n",
    "    if g.nodes.get(edge[0])['is_infected'] and edge[2] > g.nodes.get(edge[0])['infected_at'] and not g.nodes.get(edge[1])['is_infected']:\n",
    "        inf += 1\n",
    "        g.nodes.get(edge[1])['in_infected'] = True\n",
    "        g.nodes.get(edge[1])['infected_at'] = edge[2]\n",
    "        ins[str(edge[2])] = ins.get(str(edge[2]), 0) + 1\n",
    "    \n",
    "    return inf, ins, g\n",
    "\n",
    "def find_influence_of_node(edges, node, at, train_lines, beta):\n",
    "    g = nx.Graph()\n",
    "    influence, influences, pred = 0, {}, {}\n",
    "    \n",
    "    for edge in edges:\n",
    "        if g.nodes.get(edge[0]) is None:\n",
    "            g.add_node(edge[0], is_infected=False, infected_at=math.inf)\n",
    "        if g.nodes.get(edge[1]) is None:\n",
    "            g.add_node(edge[1], is_infected=False, infected_at=math.inf)\n",
    "\n",
    "    g.nodes.get(node)['is_infected'] = True\n",
    "    g.nodes.get(node)['infected_at'] = at\n",
    "\n",
    "    # TODO: Check influence. I think it's getting unset somewhere because of how Python handles pointers.\n",
    "    for i, edge in enumerate(edges):\n",
    "        if i <= train_lines:\n",
    "            influence, influences, g = check_edge(edge, g, influence, influences, beta)\n",
    "            new_edge = (edge[1], edge[0], edge[2])\n",
    "            influence, influences, g = check_edge(new_edge, g, influence, influences, beta)\n",
    "        else:\n",
    "            influence, pred, g = check_edge(edge, g, influence, pred, beta)\n",
    "            new_edge = (edge[1], edge[0], edge[2])\n",
    "            influence, pred, g = check_edge(new_edge, g, influence, pred, beta)\n",
    "                \n",
    "    return influence, influences, pred\n",
    "\n",
    "# TODO: Fix this\n",
    "def find_influence_in_graph(graph, all_data, train_lines, beta):\n",
    "    for i, edge in enumerate(all_data):\n",
    "        for e in [edge[0], edge[1]]:\n",
    "            if graph.nodes.get(e)['influence'] == -1:\n",
    "                z, zz, zzz = find_influence_of_node(all_data, e, edge[2], train_lines, beta)\n",
    "                # print(f'z: {z}, zz: {zz}, zzz: {zzz}')\n",
    "                graph.nodes.get(e)['influence'] = z\n",
    "                graph.nodes.get(e)['influences'] = zz\n",
    "                if zzz is not {}:\n",
    "                    graph.nodes.get(e)['pred'] = zzz # time series of influence. [(0, 0), (1, 5), (2, 10), (4, 12)]\n",
    "\n",
    "    most_influential_nodes = sorted(list(graph.nodes.data(\"influence\")), key=lambda x: x[1], reverse=True)[:5]\n",
    "    print(most_influential_nodes)\n",
    "    return most_influential_nodes"
   ]
  },
  {
   "cell_type": "code",
   "execution_count": 5,
   "metadata": {},
   "outputs": [],
   "source": [
    "def polyfit(data, new_points, dimension):\n",
    "#     print(f'data: {data}')\n",
    "    k, v = list(map(lambda x: int(x), data.keys())), list(data.values())\n",
    "#     print(f'keys: {k}')\n",
    "    print(f'values: {v}')\n",
    "    \n",
    "    fit = np.polyfit(k, v, 1) #The use of 1 signifies a linear fit.\n",
    "\n",
    "    line = np.poly1d(fit)\n",
    "    new_points = np.arange(new_points) + (k[-1] + 1)\n",
    "    new_p = line(new_points)\n",
    "    print(f'New points predicted are: {new_p}')\n",
    "\n",
    "    return new_p\n",
    "#     return np.cumsum(line(new_points))"
   ]
  },
  {
   "cell_type": "code",
   "execution_count": 13,
   "metadata": {},
   "outputs": [],
   "source": [
    "# Find k most influential nodes\n",
    "import matplotlib.pyplot as plt\n",
    "from matplotlib.pyplot import cm\n",
    "\n",
    "def plot(most_influential_nodes, graph):\n",
    "    clr = ['r', 'g', 'b', 'y', 'm']\n",
    "\n",
    "    for i, node in enumerate(most_influential_nodes):\n",
    "        plt.plot(list(graph.nodes.get(node[0])['pred'].keys()), list(graph.nodes.get(node[0])['pred'].values()), 'o', color=clr[i])\n",
    "        #plt.plot(list(graph.nodes.get(node[0])['polyfit_prediction'].keys()), list(graph.nodes.get(node[0])['polyfit_prediction'].values()), 'o')\n",
    "        print(graph.nodes.get(node[0])['pred'])\n",
    "    # save the plot\n",
    "    plot_name = 's.png'\n",
    "    plt.savefig(plot_name)\n",
    "    plt.show()\n",
    "\n",
    "def simulate(dataset, delta_t, phi, beta):\n",
    "    print(f'Running simulation for dataset {dataset} with delta_t {delta_t} and phi {phi} and beta {beta}')\n",
    "    flag = True\n",
    "    while flag:\n",
    "        flag = False\n",
    "        all_data, train_data, predict_data, train_lines, total_edges, start, mid, end = get_data(dataset, delta_t, phi)\n",
    "        src, dst, ts, graph = make_graph(all_data)\n",
    "        most_influential_nodes = find_influence_in_graph(graph, all_data, train_lines, beta) # 5 most influential nodes [(node id, influence)]\n",
    "        for node in most_influential_nodes:\n",
    "            if not bool(graph.nodes.get(node[0])['pred']):\n",
    "                flag = True\n",
    "\n",
    "    # Find all the unique keys in most_influential_nodes\n",
    "    keys_pred = set()\n",
    "    keys_polyfit = set()\n",
    "    for node in most_influential_nodes:\n",
    "        keys_pred.update(graph.nodes.get(node[0])['pred'].keys())\n",
    "#         keys_polyfit.update(graph.nodes.get(node[0])['polyfit_prediction'].keys())\n",
    "\n",
    "    # if a node is missing a key, add it and set it to 0\n",
    "    for node in most_influential_nodes:\n",
    "        for key in keys_pred:\n",
    "            if key not in graph.nodes.get(node[0])['pred']:\n",
    "                graph.nodes.get(node[0])['pred'][key] = 0\n",
    "#         for key in keys_polyfit:\n",
    "#             if key not in graph.nodes.get(node[0])['polyfit_prediction']:\n",
    "#                 graph.nodes.get(node[0])['polyfit_prediction'][key] = 0\n",
    "    # for each node sort keys\n",
    "    for node in most_influential_nodes:\n",
    "        graph.nodes.get(node[0])['pred'] = dict(sorted(graph.nodes.get(node[0])['pred'].items(), key=lambda item: item[0]))\n",
    "#         graph.nodes.get(node[0])['polyfit_prediction'] = dict(sorted(graph.nodes.get(node[0])['polyfit_prediction'].items(), key=lambda item: item[0]))\n",
    "\n",
    "    plot(most_influential_nodes, graph)\n",
    "    all_data, train_data, predict_data, train_lines, total_edges, start, mid, end = get_data(dataset, delta_t, phi)\n",
    "    src, dst, ts, graph = make_graph(all_data)\n",
    "    most_influential_nodes = find_influence_in_graph(graph, all_data, train_lines, beta) # 5 most influential nodes [(node id, influence)]\n"
   ]
  },
  {
   "cell_type": "code",
   "execution_count": 14,
   "metadata": {},
   "outputs": [
    {
     "data": {
      "application/vnd.jupyter.widget-view+json": {
       "model_id": "dcda5c134a5f4e76bdcd7152632dff5e",
       "version_major": 2,
       "version_minor": 0
      },
      "text/plain": [
       "interactive(children=(Text(value='infectious', description='dataset'), FloatSlider(value=0.1, description='del…"
      ]
     },
     "metadata": {},
     "output_type": "display_data"
    }
   ],
   "source": [
    "dataset_dropdown = widgets.Dropdown(options=['infectious', 'ht09_contact', 'SFHH', 'tij_InVS15'], description='Dataset', disabled=False, continuous_update=True)\n",
    "phi_slider = widgets.FloatSlider(min=0.1, max=0.9, step=0.01, value=0.1, continuous_update=True)\n",
    "delta_t_slider = widgets.FloatSlider(min=0, max=1, step=0.01, value=0.1, continuous_update=True)\n",
    "beta_slider = widgets.FloatSlider(min=0, max=1, step=0.01, value=0.75, continuous_update=True)\n",
    "\n",
    "w = widgets.interactive(simulate, dataset=dataset_dropdown.value, delta_t=delta_t_slider.value, phi=phi_slider.value, beta=beta_slider.value)\n",
    "display(w)\n",
    "\n"
   ]
  },
  {
   "cell_type": "code",
   "execution_count": null,
   "metadata": {},
   "outputs": [],
   "source": [
    "# We can plot real influence with predicted influence\n",
    "# Minimize on MSE or MAE or any other distance metric to find best hyper-parameters"
   ]
  },
  {
   "cell_type": "code",
   "execution_count": 7,
   "metadata": {},
   "outputs": [],
   "source": [
    "#a_slider = widgets.IntSliderWidget(min=-5, max=5, step=1, value=0)\n",
    "# b_slider = widgets.FloatSliderWidget(min=-5, max=5, step=0.3, value=0)\n",
    "#w = widgets.interactive(sigmoid_demo,a=a_slider, b=b_slider)\n",
    "#display(w)"
   ]
  },
  {
   "cell_type": "code",
   "execution_count": null,
   "metadata": {},
   "outputs": [],
   "source": [
    "# bor = 'A'\n",
    "# drop_down = widgets.Dropdown(options=['A','B','C','D'],\n",
    "#                              description='Choose',\n",
    "#                              disabled=False)\n",
    "#\n",
    "# def dropdown_handler(change):\n",
    "#     global bor\n",
    "#     print(change.new)\n",
    "#     bor = change.new  # This line isn't working\n",
    "# drop_down.observe(dropdown_handler, names='value')\n",
    "# display(drop_down)"
   ]
  },
  {
   "cell_type": "code",
   "execution_count": null,
   "metadata": {},
   "outputs": [],
   "source": []
  }
 ],
 "metadata": {
  "kernelspec": {
   "display_name": "Python 3 (ipykernel)",
   "language": "python",
   "name": "python3"
  },
  "language_info": {
   "codemirror_mode": {
    "name": "ipython",
    "version": 3
   },
   "file_extension": ".py",
   "mimetype": "text/x-python",
   "name": "python",
   "nbconvert_exporter": "python",
   "pygments_lexer": "ipython3",
   "version": "3.10.10"
  },
  "vscode": {
   "interpreter": {
    "hash": "e35c14a8caca76198b34fb255762891fb38351c0ec24f1fa8546521f6a1a9596"
   }
  }
 },
 "nbformat": 4,
 "nbformat_minor": 2
}
